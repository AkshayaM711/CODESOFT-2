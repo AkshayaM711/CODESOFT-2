{
  "nbformat": 4,
  "nbformat_minor": 0,
  "metadata": {
    "colab": {
      "provenance": [],
      "gpuType": "T4"
    },
    "kernelspec": {
      "name": "python3",
      "display_name": "Python 3"
    },
    "language_info": {
      "name": "python"
    },
    "accelerator": "GPU"
  },
  "cells": [
    {
      "cell_type": "markdown",
      "source": [
        "LOAD DATA"
      ],
      "metadata": {
        "id": "e8JKppRMdQaD"
      }
    },
    {
      "cell_type": "code",
      "source": [
        "import pandas as pd\n",
        "import numpy as np\n",
        "from sklearn.model_selection import train_test_split\n",
        "from sklearn.preprocessing import OneHotEncoder\n",
        "from sklearn.linear_model import LinearRegression\n",
        "from sklearn.metrics import mean_squared_error\n",
        "\n",
        "# Load the dataset, trying different encodings\n",
        "try:\n",
        "    data = pd.read_csv('/content/IMDb Movies India.csv', encoding='utf-8')  # Try utf-8 first\n",
        "except UnicodeDecodeError:\n",
        "    data = pd.read_csv('/content/IMDb Movies India.csv', encoding='latin-1')  # Try latin-1 if utf-8 fails\n",
        "\n",
        "# Display the first few rows\n",
        "print(data.head())"
      ],
      "metadata": {
        "colab": {
          "base_uri": "https://localhost:8080/"
        },
        "id": "CNmB1-e9dRt9",
        "outputId": "2e6e4366-d402-47d5-b6c6-b0b86c6bca10"
      },
      "execution_count": null,
      "outputs": [
        {
          "output_type": "stream",
          "name": "stdout",
          "text": [
            "                                 Name    Year Duration            Genre  \\\n",
            "0                                         NaN      NaN            Drama   \n",
            "1  #Gadhvi (He thought he was Gandhi)  (2019)  109 min            Drama   \n",
            "2                         #Homecoming  (2021)   90 min   Drama, Musical   \n",
            "3                             #Yaaram  (2019)  110 min  Comedy, Romance   \n",
            "4                   ...And Once Again  (2010)  105 min            Drama   \n",
            "\n",
            "   Rating Votes            Director       Actor 1             Actor 2  \\\n",
            "0     NaN   NaN       J.S. Randhawa      Manmauji              Birbal   \n",
            "1     7.0     8       Gaurav Bakshi  Rasika Dugal      Vivek Ghamande   \n",
            "2     NaN   NaN  Soumyajit Majumdar  Sayani Gupta   Plabita Borthakur   \n",
            "3     4.4    35          Ovais Khan       Prateik          Ishita Raj   \n",
            "4     NaN   NaN        Amol Palekar  Rajat Kapoor  Rituparna Sengupta   \n",
            "\n",
            "           Actor 3  \n",
            "0  Rajendra Bhatia  \n",
            "1    Arvind Jangid  \n",
            "2       Roy Angana  \n",
            "3  Siddhant Kapoor  \n",
            "4      Antara Mali  \n"
          ]
        }
      ]
    },
    {
      "cell_type": "markdown",
      "source": [
        "DATA PREPROCESSING"
      ],
      "metadata": {
        "id": "zRHnEJw9dW3l"
      }
    },
    {
      "cell_type": "code",
      "source": [
        "# Handle missing values\n",
        "data = data.dropna()\n",
        "\n",
        "# Display the dataset info\n",
        "print(data.info())\n"
      ],
      "metadata": {
        "colab": {
          "base_uri": "https://localhost:8080/"
        },
        "id": "S2Bw4sqSdm0w",
        "outputId": "fbbe644f-ae62-41d9-e639-e1886a0d0ce5"
      },
      "execution_count": null,
      "outputs": [
        {
          "output_type": "stream",
          "name": "stdout",
          "text": [
            "<class 'pandas.core.frame.DataFrame'>\n",
            "Index: 5659 entries, 1 to 15508\n",
            "Data columns (total 10 columns):\n",
            " #   Column    Non-Null Count  Dtype  \n",
            "---  ------    --------------  -----  \n",
            " 0   Name      5659 non-null   object \n",
            " 1   Year      5659 non-null   object \n",
            " 2   Duration  5659 non-null   object \n",
            " 3   Genre     5659 non-null   object \n",
            " 4   Rating    5659 non-null   float64\n",
            " 5   Votes     5659 non-null   object \n",
            " 6   Director  5659 non-null   object \n",
            " 7   Actor 1   5659 non-null   object \n",
            " 8   Actor 2   5659 non-null   object \n",
            " 9   Actor 3   5659 non-null   object \n",
            "dtypes: float64(1), object(9)\n",
            "memory usage: 486.3+ KB\n",
            "None\n"
          ]
        }
      ]
    },
    {
      "cell_type": "markdown",
      "source": [
        "FEATURE ENGINEERING"
      ],
      "metadata": {
        "id": "tA5jnRZVdoPv"
      }
    },
    {
      "cell_type": "code",
      "source": [
        "# Handle missing values\n",
        "data = data.dropna()\n",
        "\n",
        "# Display the dataset info\n",
        "print(data.info())\n",
        "print(data.columns)\n",
        "\n",
        "\n",
        "\n"
      ],
      "metadata": {
        "colab": {
          "base_uri": "https://localhost:8080/"
        },
        "id": "thcNfk2SeNZt",
        "outputId": "ec3288df-66b3-46ff-c44a-46f97cb70fe0"
      },
      "execution_count": null,
      "outputs": [
        {
          "output_type": "stream",
          "name": "stdout",
          "text": [
            "<class 'pandas.core.frame.DataFrame'>\n",
            "Index: 5659 entries, 1 to 15508\n",
            "Data columns (total 10 columns):\n",
            " #   Column    Non-Null Count  Dtype  \n",
            "---  ------    --------------  -----  \n",
            " 0   Name      5659 non-null   object \n",
            " 1   Year      5659 non-null   object \n",
            " 2   Duration  5659 non-null   object \n",
            " 3   Genre     5659 non-null   object \n",
            " 4   Rating    5659 non-null   float64\n",
            " 5   Votes     5659 non-null   object \n",
            " 6   Director  5659 non-null   object \n",
            " 7   Actor 1   5659 non-null   object \n",
            " 8   Actor 2   5659 non-null   object \n",
            " 9   Actor 3   5659 non-null   object \n",
            "dtypes: float64(1), object(9)\n",
            "memory usage: 486.3+ KB\n",
            "None\n",
            "Index(['Name', 'Year', 'Duration', 'Genre', 'Rating', 'Votes', 'Director',\n",
            "       'Actor 1', 'Actor 2', 'Actor 3'],\n",
            "      dtype='object')\n"
          ]
        }
      ]
    },
    {
      "cell_type": "code",
      "source": [
        "# Select features and target variable - Update column names as needed\n",
        "features = data[['Genre', 'Director', 'Actor 1']]  # Change 'Actors' to 'Actor'\n",
        "target = data['Rating']"
      ],
      "metadata": {
        "id": "-ody0K8leefA"
      },
      "execution_count": null,
      "outputs": []
    },
    {
      "cell_type": "code",
      "source": [
        "# One-hot encode categorical features\n",
        "encoder = OneHotEncoder()\n",
        "encoded_features = encoder.fit_transform(features).toarray()\n",
        "\n",
        "# Combine the encoded features into a DataFrame\n",
        "encoded_df = pd.DataFrame(encoded_features, columns=encoder.get_feature_names_out(features.columns))\n",
        "\n",
        "# Display the encoded features\n",
        "print(encoded_df.head())"
      ],
      "metadata": {
        "colab": {
          "base_uri": "https://localhost:8080/"
        },
        "id": "2cWx1V1AehNU",
        "outputId": "38ef606a-f79c-4f13-bf27-4cb676c45dc0"
      },
      "execution_count": null,
      "outputs": [
        {
          "output_type": "stream",
          "name": "stdout",
          "text": [
            "   Genre_Action  Genre_Action, Adventure  Genre_Action, Adventure, Biography  \\\n",
            "0           0.0                      0.0                                 0.0   \n",
            "1           0.0                      0.0                                 0.0   \n",
            "2           0.0                      0.0                                 0.0   \n",
            "3           0.0                      0.0                                 0.0   \n",
            "4           0.0                      0.0                                 0.0   \n",
            "\n",
            "   Genre_Action, Adventure, Comedy  Genre_Action, Adventure, Crime  \\\n",
            "0                              0.0                             0.0   \n",
            "1                              0.0                             0.0   \n",
            "2                              0.0                             0.0   \n",
            "3                              0.0                             0.0   \n",
            "4                              0.0                             0.0   \n",
            "\n",
            "   Genre_Action, Adventure, Drama  Genre_Action, Adventure, Family  \\\n",
            "0                             0.0                              0.0   \n",
            "1                             0.0                              0.0   \n",
            "2                             0.0                              0.0   \n",
            "3                             0.0                              0.0   \n",
            "4                             0.0                              0.0   \n",
            "\n",
            "   Genre_Action, Adventure, Fantasy  Genre_Action, Adventure, History  \\\n",
            "0                               0.0                               0.0   \n",
            "1                               0.0                               0.0   \n",
            "2                               0.0                               0.0   \n",
            "3                               0.0                               0.0   \n",
            "4                               0.0                               0.0   \n",
            "\n",
            "   Genre_Action, Adventure, Horror  ...  Actor 1_Zain Khan  \\\n",
            "0                              0.0  ...                0.0   \n",
            "1                              0.0  ...                0.0   \n",
            "2                              0.0  ...                0.0   \n",
            "3                              0.0  ...                0.0   \n",
            "4                              0.0  ...                0.0   \n",
            "\n",
            "   Actor 1_Zaira Wasim  Actor 1_Zakir Hussain  Actor 1_Zameer Ashai  \\\n",
            "0                  0.0                    0.0                   0.0   \n",
            "1                  0.0                    0.0                   0.0   \n",
            "2                  0.0                    0.0                   0.0   \n",
            "3                  0.0                    0.0                   0.0   \n",
            "4                  0.0                    0.0                   0.0   \n",
            "\n",
            "   Actor 1_Zareen Khan  Actor 1_Zarina Wahab  Actor 1_Zayed Khan  \\\n",
            "0                  0.0                   0.0                 0.0   \n",
            "1                  0.0                   0.0                 0.0   \n",
            "2                  0.0                   0.0                 0.0   \n",
            "3                  0.0                   0.0                 0.0   \n",
            "4                  0.0                   0.0                 0.0   \n",
            "\n",
            "   Actor 1_Zeenat Aman  Actor 1_Zenia Starr  Actor 1_Zulfi Sayed  \n",
            "0                  0.0                  0.0                  0.0  \n",
            "1                  0.0                  0.0                  0.0  \n",
            "2                  0.0                  0.0                  0.0  \n",
            "3                  0.0                  0.0                  0.0  \n",
            "4                  0.0                  0.0                  0.0  \n",
            "\n",
            "[5 rows x 4767 columns]\n"
          ]
        }
      ]
    },
    {
      "cell_type": "code",
      "source": [
        "# Split the data into training and testing sets\n",
        "X_train, X_test, y_train, y_test = train_test_split(encoded_df, target, test_size=0.2, random_state=42)\n",
        "\n",
        "# Train a linear regression model\n",
        "model = LinearRegression()\n",
        "model.fit(X_train, y_train)\n",
        "\n",
        "# Predict ratings on the test set\n",
        "y_pred = model.predict(X_test)\n",
        "\n",
        "# Evaluate the model\n",
        "mse = mean_squared_error(y_test, y_pred)\n",
        "print(f'Mean Squared Error: {mse}')\n",
        "\n",
        "# Display the model coefficients\n",
        "print('Model Coefficients:')\n",
        "print(model.coef_)\n"
      ],
      "metadata": {
        "colab": {
          "base_uri": "https://localhost:8080/"
        },
        "id": "JDqkaWpueobY",
        "outputId": "96be5701-25e7-4048-dde9-761b8fe6dcbf"
      },
      "execution_count": null,
      "outputs": [
        {
          "output_type": "stream",
          "name": "stdout",
          "text": [
            "Mean Squared Error: 3.6617684515408506e+26\n",
            "Model Coefficients:\n",
            "[ 6.20904364e+12  6.20904364e+12  1.72921770e+14 ... -1.73767210e+11\n",
            "  1.64627414e+13 -1.50613228e+13]\n"
          ]
        }
      ]
    }
  ]
}